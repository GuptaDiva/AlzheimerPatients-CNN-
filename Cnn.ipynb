{
 "cells": [
  {
   "cell_type": "code",
   "execution_count": 1,
   "id": "b518feab",
   "metadata": {},
   "outputs": [
    {
     "name": "stderr",
     "output_type": "stream",
     "text": [
      "C:\\Users\\HP\\AppData\\Local\\Programs\\Python\\Python311\\Lib\\site-packages\\numpy\\_distributor_init.py:30: UserWarning: loaded more than 1 DLL from .libs:\n",
      "C:\\Users\\HP\\AppData\\Local\\Programs\\Python\\Python311\\Lib\\site-packages\\numpy\\.libs\\libopenblas.FB5AE2TYXYH2IJRDKGDGQ3XBKLKTF43H.gfortran-win_amd64.dll\n",
      "C:\\Users\\HP\\AppData\\Local\\Programs\\Python\\Python311\\Lib\\site-packages\\numpy\\.libs\\libopenblas64__v0.3.21-gcc_10_3_0.dll\n",
      "  warnings.warn(\"loaded more than 1 DLL from .libs:\"\n"
     ]
    }
   ],
   "source": [
    "import tensorflow as tf\n",
    "from keras.preprocessing.image import ImageDataGenerator"
   ]
  },
  {
   "cell_type": "code",
   "execution_count": 2,
   "id": "fbf20572",
   "metadata": {},
   "outputs": [
    {
     "data": {
      "text/plain": [
       "'2.12.0'"
      ]
     },
     "execution_count": 2,
     "metadata": {},
     "output_type": "execute_result"
    }
   ],
   "source": [
    "tf.__version__"
   ]
  },
  {
   "cell_type": "code",
   "execution_count": 5,
   "id": "8f2bbd9a",
   "metadata": {},
   "outputs": [
    {
     "name": "stdout",
     "output_type": "stream",
     "text": [
      "Found 6400 images belonging to 4 classes.\n"
     ]
    }
   ],
   "source": [
    "train_datagen=ImageDataGenerator(\n",
    "rescale=1./255,\n",
    "shear_range=0.2,\n",
    "horizontal_flip=True)\n",
    "training_set=train_datagen.flow_from_directory('Dataset',\n",
    "                                                target_size=(64,64),\n",
    "                                                batch_size=32,\n",
    "                                                class_mode='categorical')"
   ]
  },
  {
   "cell_type": "code",
   "execution_count": 6,
   "id": "a524775f",
   "metadata": {},
   "outputs": [
    {
     "name": "stdout",
     "output_type": "stream",
     "text": [
      "Found 1049 images belonging to 4 classes.\n"
     ]
    }
   ],
   "source": [
    "test_datagen=ImageDataGenerator(rescale=1./255)\n",
    "test_set=test_datagen.flow_from_directory('Test_Dataset',\n",
    "                                            target_size=(64,64),\n",
    "                                            batch_size=32,\n",
    "                                            class_mode='categorical')"
   ]
  },
  {
   "cell_type": "code",
   "execution_count": 7,
   "id": "43a03732",
   "metadata": {},
   "outputs": [],
   "source": [
    "cnn=tf.keras.models.Sequential()"
   ]
  },
  {
   "cell_type": "code",
   "execution_count": 8,
   "id": "98e5d4c7",
   "metadata": {},
   "outputs": [],
   "source": [
    "cnn.add(tf.keras.layers.Conv2D(filters=32, kernel_size=3, activation='relu', input_shape=[64, 64, 3]))"
   ]
  },
  {
   "cell_type": "code",
   "execution_count": 9,
   "id": "c6c53cd6",
   "metadata": {},
   "outputs": [],
   "source": [
    "cnn.add(tf.keras.layers.MaxPool2D(pool_size=2, strides=2))"
   ]
  },
  {
   "cell_type": "code",
   "execution_count": 10,
   "id": "c68c9b03",
   "metadata": {},
   "outputs": [],
   "source": [
    "cnn.add(tf.keras.layers.Conv2D(filters=32, kernel_size=3, activation='relu'))"
   ]
  },
  {
   "cell_type": "code",
   "execution_count": 11,
   "id": "7ebea068",
   "metadata": {},
   "outputs": [],
   "source": [
    "cnn.add(tf.keras.layers.Flatten())"
   ]
  },
  {
   "cell_type": "code",
   "execution_count": 12,
   "id": "8881c059",
   "metadata": {},
   "outputs": [],
   "source": [
    "cnn.add(tf.keras.layers.Dense(units=128, activation='relu'))"
   ]
  },
  {
   "cell_type": "code",
   "execution_count": 13,
   "id": "37ded77e",
   "metadata": {},
   "outputs": [],
   "source": [
    "cnn.add(tf.keras.layers.Dense(units=4, activation='softmax'))"
   ]
  },
  {
   "cell_type": "code",
   "execution_count": 26,
   "id": "fa0f2b92",
   "metadata": {},
   "outputs": [],
   "source": [
    "cnn.compile(optimizer='adam', loss='categorical_crossentropy', metrics=['accuracy'])"
   ]
  },
  {
   "cell_type": "code",
   "execution_count": 27,
   "id": "55e6aea6",
   "metadata": {},
   "outputs": [
    {
     "name": "stdout",
     "output_type": "stream",
     "text": [
      "Epoch 1/25\n",
      "200/200 [==============================] - 50s 240ms/step - loss: 0.9919 - accuracy: 0.5230 - val_loss: 1.1047 - val_accuracy: 0.4766\n",
      "Epoch 2/25\n",
      "200/200 [==============================] - 44s 222ms/step - loss: 0.8332 - accuracy: 0.6189 - val_loss: 1.0053 - val_accuracy: 0.5281\n",
      "Epoch 3/25\n",
      "200/200 [==============================] - 43s 213ms/step - loss: 0.6357 - accuracy: 0.7242 - val_loss: 0.5999 - val_accuracy: 0.7474\n",
      "Epoch 4/25\n",
      "200/200 [==============================] - 42s 209ms/step - loss: 0.4639 - accuracy: 0.8087 - val_loss: 0.3574 - val_accuracy: 0.8646\n",
      "Epoch 5/25\n",
      "200/200 [==============================] - 42s 209ms/step - loss: 0.2915 - accuracy: 0.8873 - val_loss: 0.2382 - val_accuracy: 0.9113\n",
      "Epoch 6/25\n",
      "200/200 [==============================] - 56s 281ms/step - loss: 0.1867 - accuracy: 0.9341 - val_loss: 0.2359 - val_accuracy: 0.9075\n",
      "Epoch 7/25\n",
      "200/200 [==============================] - 61s 303ms/step - loss: 0.1060 - accuracy: 0.9652 - val_loss: 0.1263 - val_accuracy: 0.9571\n",
      "Epoch 8/25\n",
      "200/200 [==============================] - 50s 251ms/step - loss: 0.0625 - accuracy: 0.9825 - val_loss: 0.0342 - val_accuracy: 0.9905\n",
      "Epoch 9/25\n",
      "200/200 [==============================] - 60s 301ms/step - loss: 0.0446 - accuracy: 0.9873 - val_loss: 0.0125 - val_accuracy: 0.9990\n",
      "Epoch 10/25\n",
      "200/200 [==============================] - 59s 294ms/step - loss: 0.0263 - accuracy: 0.9920 - val_loss: 0.0236 - val_accuracy: 0.9971\n",
      "Epoch 11/25\n",
      "200/200 [==============================] - 61s 307ms/step - loss: 0.0247 - accuracy: 0.9925 - val_loss: 0.0143 - val_accuracy: 0.9981\n",
      "Epoch 12/25\n",
      "200/200 [==============================] - 62s 308ms/step - loss: 0.0346 - accuracy: 0.9878 - val_loss: 0.0248 - val_accuracy: 0.9952\n",
      "Epoch 13/25\n",
      "200/200 [==============================] - 57s 286ms/step - loss: 0.0447 - accuracy: 0.9845 - val_loss: 0.0105 - val_accuracy: 1.0000\n",
      "Epoch 14/25\n",
      "200/200 [==============================] - 53s 264ms/step - loss: 0.0404 - accuracy: 0.9864 - val_loss: 0.0253 - val_accuracy: 0.9933\n",
      "Epoch 15/25\n",
      "200/200 [==============================] - 54s 272ms/step - loss: 0.0147 - accuracy: 0.9961 - val_loss: 0.0183 - val_accuracy: 0.9933\n",
      "Epoch 16/25\n",
      "200/200 [==============================] - 57s 286ms/step - loss: 0.0094 - accuracy: 0.9973 - val_loss: 0.0045 - val_accuracy: 0.9981\n",
      "Epoch 17/25\n",
      "200/200 [==============================] - 61s 303ms/step - loss: 0.0020 - accuracy: 0.9997 - val_loss: 6.3570e-04 - val_accuracy: 1.0000\n",
      "Epoch 18/25\n",
      "200/200 [==============================] - 58s 291ms/step - loss: 5.3537e-04 - accuracy: 1.0000 - val_loss: 3.6939e-04 - val_accuracy: 1.0000\n",
      "Epoch 19/25\n",
      "200/200 [==============================] - 65s 323ms/step - loss: 5.6829e-04 - accuracy: 1.0000 - val_loss: 2.7638e-04 - val_accuracy: 1.0000\n",
      "Epoch 20/25\n",
      "200/200 [==============================] - 60s 300ms/step - loss: 3.0220e-04 - accuracy: 1.0000 - val_loss: 2.0510e-04 - val_accuracy: 1.0000\n",
      "Epoch 21/25\n",
      "200/200 [==============================] - 58s 291ms/step - loss: 1.7528e-04 - accuracy: 1.0000 - val_loss: 1.5399e-04 - val_accuracy: 1.0000\n",
      "Epoch 22/25\n",
      "200/200 [==============================] - 56s 281ms/step - loss: 1.3306e-04 - accuracy: 1.0000 - val_loss: 1.3636e-04 - val_accuracy: 1.0000\n",
      "Epoch 23/25\n",
      "200/200 [==============================] - 56s 279ms/step - loss: 1.1317e-04 - accuracy: 1.0000 - val_loss: 1.0335e-04 - val_accuracy: 1.0000\n",
      "Epoch 24/25\n",
      "200/200 [==============================] - 56s 281ms/step - loss: 9.6467e-05 - accuracy: 1.0000 - val_loss: 9.5405e-05 - val_accuracy: 1.0000\n",
      "Epoch 25/25\n",
      "200/200 [==============================] - 56s 280ms/step - loss: 8.1467e-05 - accuracy: 1.0000 - val_loss: 7.0646e-05 - val_accuracy: 1.0000\n"
     ]
    },
    {
     "data": {
      "text/plain": [
       "<keras.callbacks.History at 0x207e4112b50>"
      ]
     },
     "execution_count": 27,
     "metadata": {},
     "output_type": "execute_result"
    }
   ],
   "source": [
    "cnn.fit(x=training_set, validation_data=test_set, epochs=25)"
   ]
  },
  {
   "cell_type": "code",
   "execution_count": 38,
   "id": "fc492cf6",
   "metadata": {},
   "outputs": [
    {
     "name": "stdout",
     "output_type": "stream",
     "text": [
      "1/1 [==============================] - 0s 41ms/step\n"
     ]
    }
   ],
   "source": [
    "import numpy as np\n",
    "import keras.utils as image\n",
    "test_image = image.load_img('Test/mild.jpg', target_size = (64, 64))\n",
    "test_image = image.img_to_array(test_image)\n",
    "test_image = np.expand_dims(test_image, axis = 0)\n",
    "result = cnn.predict(test_image)\n",
    "training_set.class_indices\n",
    "if result[0][0] == 1:\n",
    "  prediction = 'mild'\n",
    "elif result[0][1] == 1:\n",
    "  prediction = 'moderate'\n",
    "elif result[0][2] == 1:\n",
    "  prediction = 'no alzimers'\n",
    "else:\n",
    "  prediction = 'very mild'  "
   ]
  },
  {
   "cell_type": "code",
   "execution_count": 39,
   "id": "939dcfff",
   "metadata": {},
   "outputs": [
    {
     "name": "stdout",
     "output_type": "stream",
     "text": [
      "mild\n"
     ]
    }
   ],
   "source": [
    "print(prediction)"
   ]
  },
  {
   "cell_type": "code",
   "execution_count": 30,
   "id": "847eabcd",
   "metadata": {},
   "outputs": [
    {
     "data": {
      "text/plain": [
       "(1, 4)"
      ]
     },
     "execution_count": 30,
     "metadata": {},
     "output_type": "execute_result"
    }
   ],
   "source": [
    "result.shape"
   ]
  },
  {
   "cell_type": "code",
   "execution_count": 40,
   "id": "faaec4ba",
   "metadata": {},
   "outputs": [],
   "source": [
    "#Saving the model.\n",
    "cnn.save('Cnn.h5')"
   ]
  },
  {
   "cell_type": "code",
   "execution_count": 41,
   "id": "8408101c",
   "metadata": {},
   "outputs": [],
   "source": [
    "#for loading the model.\n",
    "cnn.load_weights('Cnn.h5')"
   ]
  },
  {
   "cell_type": "code",
   "execution_count": null,
   "id": "06482ce8",
   "metadata": {},
   "outputs": [],
   "source": []
  }
 ],
 "metadata": {
  "kernelspec": {
   "display_name": "Python 3 (ipykernel)",
   "language": "python",
   "name": "python3"
  },
  "language_info": {
   "codemirror_mode": {
    "name": "ipython",
    "version": 3
   },
   "file_extension": ".py",
   "mimetype": "text/x-python",
   "name": "python",
   "nbconvert_exporter": "python",
   "pygments_lexer": "ipython3",
   "version": "3.11.2"
  }
 },
 "nbformat": 4,
 "nbformat_minor": 5
}
