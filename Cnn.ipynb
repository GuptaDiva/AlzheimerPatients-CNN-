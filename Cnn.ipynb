{
 "cells": [
  {
   "cell_type": "code",
   "execution_count": 1,
   "id": "b518feab",
   "metadata": {},
   "outputs": [
    {
     "name": "stderr",
     "output_type": "stream",
     "text": [
      "C:\\Users\\HP\\AppData\\Local\\Programs\\Python\\Python311\\Lib\\site-packages\\numpy\\_distributor_init.py:30: UserWarning: loaded more than 1 DLL from .libs:\n",
      "C:\\Users\\HP\\AppData\\Local\\Programs\\Python\\Python311\\Lib\\site-packages\\numpy\\.libs\\libopenblas.FB5AE2TYXYH2IJRDKGDGQ3XBKLKTF43H.gfortran-win_amd64.dll\n",
      "C:\\Users\\HP\\AppData\\Local\\Programs\\Python\\Python311\\Lib\\site-packages\\numpy\\.libs\\libopenblas64__v0.3.21-gcc_10_3_0.dll\n",
      "  warnings.warn(\"loaded more than 1 DLL from .libs:\"\n"
     ]
    }
   ],
   "source": [
    "import tensorflow as tf\n",
    "from keras.preprocessing.image import ImageDataGenerator"
   ]
  },
  {
   "cell_type": "code",
   "execution_count": 2,
   "id": "fbf20572",
   "metadata": {},
   "outputs": [
    {
     "data": {
      "text/plain": [
       "'2.12.0'"
      ]
     },
     "execution_count": 2,
     "metadata": {},
     "output_type": "execute_result"
    }
   ],
   "source": [
    "tf.__version__"
   ]
  },
  {
   "cell_type": "code",
   "execution_count": 9,
   "id": "8f2bbd9a",
   "metadata": {},
   "outputs": [
    {
     "name": "stdout",
     "output_type": "stream",
     "text": [
      "Found 6400 images belonging to 4 classes.\n"
     ]
    }
   ],
   "source": [
    "train_datagen=ImageDataGenerator(\n",
    "rescale=1./255,\n",
    "shear_range=0.2,\n",
    "horizontal_flip=True)\n",
    "training_set=train_datagen.flow_from_directory('Dataset',\n",
    "                                                target_size=(64,64),\n",
    "                                                batch_size=32,\n",
    "                                                class_mode='binary')"
   ]
  },
  {
   "cell_type": "code",
   "execution_count": 11,
   "id": "a524775f",
   "metadata": {},
   "outputs": [
    {
     "name": "stdout",
     "output_type": "stream",
     "text": [
      "Found 0 images belonging to 0 classes.\n"
     ]
    }
   ],
   "source": [
    "test_datagen=ImageDataGenerator(rescale=1./255)\n",
    "test_set=test_datagen.flow_from_directory('Test',\n",
    "                                            target_size=(64,64),\n",
    "                                            batch_size=32,\n",
    "                                            class_mode='binary')"
   ]
  },
  {
   "cell_type": "code",
   "execution_count": 12,
   "id": "43a03732",
   "metadata": {},
   "outputs": [],
   "source": [
    "cnn=tf.keras.models.Sequential()"
   ]
  },
  {
   "cell_type": "code",
   "execution_count": 13,
   "id": "98e5d4c7",
   "metadata": {},
   "outputs": [],
   "source": [
    "cnn.add(tf.keras.layers.Conv2D(filters=32, kernel_size=3, activation='relu', input_shape=[64, 64, 3]))"
   ]
  },
  {
   "cell_type": "code",
   "execution_count": 14,
   "id": "c6c53cd6",
   "metadata": {},
   "outputs": [],
   "source": [
    "cnn.add(tf.keras.layers.MaxPool2D(pool_size=2, strides=2))"
   ]
  },
  {
   "cell_type": "code",
   "execution_count": 15,
   "id": "c68c9b03",
   "metadata": {},
   "outputs": [],
   "source": [
    "cnn.add(tf.keras.layers.Conv2D(filters=32, kernel_size=3, activation='relu'))"
   ]
  },
  {
   "cell_type": "code",
   "execution_count": 16,
   "id": "7ebea068",
   "metadata": {},
   "outputs": [],
   "source": [
    "cnn.add(tf.keras.layers.Flatten())"
   ]
  },
  {
   "cell_type": "code",
   "execution_count": 17,
   "id": "8881c059",
   "metadata": {},
   "outputs": [],
   "source": [
    "cnn.add(tf.keras.layers.Dense(units=128, activation='relu'))"
   ]
  },
  {
   "cell_type": "code",
   "execution_count": 24,
   "id": "37ded77e",
   "metadata": {},
   "outputs": [],
   "source": [
    "cnn.add(tf.keras.layers.Dense(units=1, activation='relu'))"
   ]
  },
  {
   "cell_type": "code",
   "execution_count": 25,
   "id": "fa0f2b92",
   "metadata": {},
   "outputs": [],
   "source": [
    "cnn.compile(optimizer='adam', loss='binary_crossentropy', metrics=['accuracy'])"
   ]
  },
  {
   "cell_type": "code",
   "execution_count": 26,
   "id": "55e6aea6",
   "metadata": {},
   "outputs": [
    {
     "name": "stdout",
     "output_type": "stream",
     "text": [
      "Epoch 1/25\n",
      "200/200 [==============================] - 44s 211ms/step - loss: 31.7754 - accuracy: 0.1400\n",
      "Epoch 2/25\n",
      "200/200 [==============================] - 43s 213ms/step - loss: 31.7754 - accuracy: 0.1400\n",
      "Epoch 3/25\n",
      "200/200 [==============================] - 46s 232ms/step - loss: 31.7754 - accuracy: 0.1400\n",
      "Epoch 4/25\n",
      "200/200 [==============================] - 39s 196ms/step - loss: 31.7754 - accuracy: 0.1400\n",
      "Epoch 5/25\n",
      "200/200 [==============================] - 58s 289ms/step - loss: 31.7754 - accuracy: 0.1400\n",
      "Epoch 6/25\n",
      "200/200 [==============================] - 42s 210ms/step - loss: 31.7754 - accuracy: 0.1400\n",
      "Epoch 7/25\n",
      "200/200 [==============================] - 58s 289ms/step - loss: 31.7754 - accuracy: 0.1400\n",
      "Epoch 8/25\n",
      "200/200 [==============================] - 66s 329ms/step - loss: 31.7754 - accuracy: 0.1400\n",
      "Epoch 9/25\n",
      "200/200 [==============================] - 63s 313ms/step - loss: 31.7754 - accuracy: 0.1400\n",
      "Epoch 10/25\n",
      "200/200 [==============================] - 50s 251ms/step - loss: 31.7754 - accuracy: 0.1400\n",
      "Epoch 11/25\n",
      "200/200 [==============================] - 78s 391ms/step - loss: 31.7754 - accuracy: 0.1400\n",
      "Epoch 12/25\n",
      "200/200 [==============================] - 41s 202ms/step - loss: 31.7754 - accuracy: 0.1400\n",
      "Epoch 13/25\n",
      "200/200 [==============================] - 74s 372ms/step - loss: 31.7754 - accuracy: 0.1400\n",
      "Epoch 14/25\n",
      "200/200 [==============================] - 88s 440ms/step - loss: 31.7754 - accuracy: 0.1400\n",
      "Epoch 15/25\n",
      "200/200 [==============================] - 75s 373ms/step - loss: 31.7754 - accuracy: 0.1400\n",
      "Epoch 16/25\n",
      "200/200 [==============================] - 54s 270ms/step - loss: 31.7754 - accuracy: 0.1400\n",
      "Epoch 17/25\n",
      "200/200 [==============================] - 66s 331ms/step - loss: 31.7754 - accuracy: 0.1400\n",
      "Epoch 18/25\n",
      "200/200 [==============================] - 46s 227ms/step - loss: 31.7754 - accuracy: 0.1400\n",
      "Epoch 19/25\n",
      "200/200 [==============================] - 42s 208ms/step - loss: 31.7754 - accuracy: 0.1400\n",
      "Epoch 20/25\n",
      "200/200 [==============================] - 48s 239ms/step - loss: 31.7754 - accuracy: 0.1400\n",
      "Epoch 21/25\n",
      "200/200 [==============================] - 42s 209ms/step - loss: 31.7754 - accuracy: 0.1400\n",
      "Epoch 22/25\n",
      "200/200 [==============================] - 42s 211ms/step - loss: 31.7754 - accuracy: 0.1400\n",
      "Epoch 23/25\n",
      "200/200 [==============================] - 42s 208ms/step - loss: 31.7754 - accuracy: 0.1400\n",
      "Epoch 24/25\n",
      "200/200 [==============================] - 44s 222ms/step - loss: 31.7754 - accuracy: 0.1400\n",
      "Epoch 25/25\n",
      "200/200 [==============================] - 46s 232ms/step - loss: 31.7754 - accuracy: 0.1400\n"
     ]
    },
    {
     "data": {
      "text/plain": [
       "<keras.callbacks.History at 0x221c2158c90>"
      ]
     },
     "execution_count": 26,
     "metadata": {},
     "output_type": "execute_result"
    }
   ],
   "source": [
    "cnn.fit(x=training_set, validation_data=test_set, epochs=25)"
   ]
  },
  {
   "cell_type": "code",
   "execution_count": 22,
   "id": "fc492cf6",
   "metadata": {},
   "outputs": [
    {
     "name": "stdout",
     "output_type": "stream",
     "text": [
      "1/1 [==============================] - 0s 206ms/step\n"
     ]
    }
   ],
   "source": [
    "import numpy as np\n",
    "import keras.utils as image\n",
    "test_image = image.load_img('Test/mild.jpg', target_size = (64, 64))\n",
    "test_image = image.img_to_array(test_image)\n",
    "test_image = np.expand_dims(test_image, axis = 0)\n",
    "result = cnn.predict(test_image)\n",
    "training_set.class_indices\n",
    "if result[0][0] == 1:\n",
    "  prediction = 'moderate'\n",
    "elif result[0][0]>0.5 and result[0][0]<0.75:\n",
    "  prediction = 'mild'\n",
    "elif result[0][0] == 0:\n",
    "  prediction = 'no alzimers'\n",
    "elif result[0][0] > 0 and result[0][0] < 0.5:\n",
    "  prediction = 'very mild'  "
   ]
  },
  {
   "cell_type": "code",
   "execution_count": 23,
   "id": "939dcfff",
   "metadata": {},
   "outputs": [
    {
     "name": "stdout",
     "output_type": "stream",
     "text": [
      "moderate\n"
     ]
    }
   ],
   "source": [
    "print(prediction)"
   ]
  },
  {
   "cell_type": "code",
   "execution_count": null,
   "id": "847eabcd",
   "metadata": {},
   "outputs": [],
   "source": []
  }
 ],
 "metadata": {
  "kernelspec": {
   "display_name": "Python 3 (ipykernel)",
   "language": "python",
   "name": "python3"
  },
  "language_info": {
   "codemirror_mode": {
    "name": "ipython",
    "version": 3
   },
   "file_extension": ".py",
   "mimetype": "text/x-python",
   "name": "python",
   "nbconvert_exporter": "python",
   "pygments_lexer": "ipython3",
   "version": "3.11.2"
  }
 },
 "nbformat": 4,
 "nbformat_minor": 5
}
